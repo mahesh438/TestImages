{
  "cells": [
    {
      "cell_type": "markdown",
      "metadata": {
        "id": "view-in-github",
        "colab_type": "text"
      },
      "source": [
        "<a href=\"https://colab.research.google.com/github/mahesh438/TestImages/blob/main/ACI_Assignment_1_SolutionTemplate_(1).ipynb\" target=\"_parent\"><img src=\"https://colab.research.google.com/assets/colab-badge.svg\" alt=\"Open In Colab\"/></a>"
      ]
    },
    {
      "cell_type": "markdown",
      "metadata": {
        "id": "MzZ4dJQYF7sH"
      },
      "source": [
        "# Artificial and Computational Intelligence Assignment 1"
      ]
    },
    {
      "cell_type": "markdown",
      "metadata": {
        "id": "Fxb1aE9zF7sK"
      },
      "source": [
        "## Problem solving by Uninformed & Informed Search"
      ]
    },
    {
      "cell_type": "markdown",
      "metadata": {
        "id": "h35jIBbCF7sK"
      },
      "source": [
        "List only the BITS (Name) of active contributors in this assignment:\n",
        "1. ___________________\n",
        "2. __________________\n",
        "3. ____________________\n",
        "4. ___________________\n",
        "5. ___________________"
      ]
    },
    {
      "cell_type": "markdown",
      "metadata": {
        "id": "pt5ygv_zF7sL"
      },
      "source": [
        "Things to follow\n",
        "1.\tUse appropriate data structures to represent the graph and the path using python libraries\n",
        "2.\tProvide proper documentation\n",
        "3.\tFind the path and print it"
      ]
    },
    {
      "cell_type": "markdown",
      "metadata": {
        "id": "wZfop5ElF7sL"
      },
      "source": [
        "Coding begins here"
      ]
    },
    {
      "cell_type": "markdown",
      "metadata": {
        "id": "IL0QDMy3F7sL"
      },
      "source": [
        "### 1.\tDefine the environment in the following block"
      ]
    },
    {
      "cell_type": "markdown",
      "metadata": {
        "id": "RYwJPNLIF7sM"
      },
      "source": [
        "List the PEAS decription of the problem here in this markdown block"
      ]
    },
    {
      "cell_type": "markdown",
      "metadata": {
        "id": "XJ3cHp1IF7sM"
      },
      "source": [
        "The PEAS description for the Path Finder Agent in the given scenario is as follows:\n",
        "1.\tPerformance Measure:\n",
        "o\tThe performance measure for the agent is the ability to reach the destination (Chennai) from New Delhi with optimal cost, considering factors such as time taken, expected speed on different routes, and overall efficiency in reaching the destination.\n",
        "2.\tEnvironment:\n",
        "o\tThe agent operates in a dynamic environment affected by the aftermath of Cyclone Michaung in Chennai. The environment includes flooded residential areas, disrupted power supply, and various routes with different speeds and costs. The agent needs to navigate through these obstacles to reach the destination.\n",
        "3.\tActuators:\n",
        "o\tThe agent can take actions such as moving along different paths, choosing the optimal route based on the given algorithms, and making decisions to reach the destination efficiently.\n",
        "4.\tSensors:\n",
        "o\tThe agent receives information from sensors about the current location, available paths, costs associated with each path, expected speeds, and any obstacles or disruptions in the environment. This information helps the agent make informed decisions while navigating towards the destination\n"
      ]
    },
    {
      "cell_type": "code",
      "execution_count": 13,
      "metadata": {
        "id": "osp61RsLF7sN"
      },
      "outputs": [],
      "source": [
        "#Code Block : Set Initial State (Must handle dynamic inputs)\n",
        "# Define graph data structure\n",
        "graph = {\n",
        "        'S': {'A': 564, 'B': 260, 'C': 782, 'G': 1085},\n",
        "        'A': {'E': 1110},\n",
        "        'B': {'S': 260, 'G': 362},\n",
        "        'C': {'S': 782, 'D': 545},\n",
        "        'D': {'C': 545, 'G': 632},\n",
        "        'E': {'A': 110, 'G': 455},\n",
        "        'G': {'S': 1085, 'B': 362, 'D': 632, 'E': 455}\n",
        "    }\n",
        "\n",
        "\n"
      ]
    },
    {
      "cell_type": "code",
      "execution_count": 14,
      "metadata": {
        "id": "XODwoWZ0F7sO",
        "colab": {
          "base_uri": "https://localhost:8080/"
        },
        "outputId": "9d4b267a-4c32-4d5b-8fbf-16f9cfcec770"
      },
      "outputs": [
        {
          "output_type": "stream",
          "name": "stdout",
          "text": [
            "[['S', 'A', 'E', 'G'], ['S', 'B', 'G'], ['S', 'C', 'D', 'G'], ['S', 'G']]\n"
          ]
        }
      ],
      "source": [
        "#Code Block : Set the matrix for transition & cost (as relevant for the given problem)\n",
        "\n",
        "def calculate_average_cost(graph, paths):\n",
        "    total_cost = 0\n",
        "    total_paths = 0\n",
        "\n",
        "    for path in paths:\n",
        "        path_cost = 0\n",
        "        for i in range(len(path) - 1):\n",
        "            path_cost += graph[path[i]][path[i + 1]]\n",
        "        total_cost += path_cost\n",
        "        total_paths += 1\n",
        "\n",
        "    return total_cost / total_paths if total_paths > 0 else 0\n",
        "\n",
        "# This function is to generate all paths from S to G.\n",
        "def generate_all_paths(graph, start, goal, path=[]):\n",
        "    path = path + [start]\n",
        "    if start == goal:\n",
        "        return [path]\n",
        "    if start not in graph:\n",
        "        return []\n",
        "    # Hold the Paths in this list.\n",
        "    paths = []\n",
        "    for node in graph[start]:\n",
        "        if node not in path:\n",
        "            new_paths = generate_all_paths(graph, node, goal, path)\n",
        "            for p in new_paths:\n",
        "                paths.append(p)\n",
        "    return paths\n",
        "\n",
        "def calculate_heuristic(graph, start, goal):\n",
        "    all_paths = generate_all_paths(graph, start, goal)\n",
        "    print(all_paths)\n",
        "    average_cost = calculate_average_cost(graph, all_paths)\n",
        "\n",
        "    heuristic_values = {}\n",
        "    for node in graph:\n",
        "        heuristic_values[node] = average_cost\n",
        "\n",
        "    return heuristic_values\n",
        "\n",
        "start_node = 'S'\n",
        "goal_node = 'G'\n",
        "\n",
        "heuristic_values = calculate_heuristic(graph, start_node, goal_node)\n"
      ]
    },
    {
      "cell_type": "code",
      "source": [
        "heuristic_values"
      ],
      "metadata": {
        "colab": {
          "base_uri": "https://localhost:8080/"
        },
        "id": "CYJgAlsl5Opk",
        "outputId": "96ca14eb-f672-4ef8-de2b-691e2d4356f6"
      },
      "execution_count": 15,
      "outputs": [
        {
          "output_type": "execute_result",
          "data": {
            "text/plain": [
              "{'S': 1448.75,\n",
              " 'A': 1448.75,\n",
              " 'B': 1448.75,\n",
              " 'C': 1448.75,\n",
              " 'D': 1448.75,\n",
              " 'E': 1448.75,\n",
              " 'G': 1448.75}"
            ]
          },
          "metadata": {},
          "execution_count": 15
        }
      ]
    },
    {
      "cell_type": "code",
      "execution_count": 3,
      "metadata": {
        "id": "ro24Gaj7F7sO"
      },
      "outputs": [],
      "source": [
        "#Code Block : Write function to design the Transition Model/Successor function. Ideally this would be called while search algorithms are implemented"
      ]
    },
    {
      "cell_type": "code",
      "execution_count": 4,
      "metadata": {
        "id": "HIVPhrRWF7sO"
      },
      "outputs": [],
      "source": [
        "#Code block : Write fucntion to handle goal test (Must handle dynamic inputs). Ideally this would be called while search algorithms are implemented"
      ]
    },
    {
      "cell_type": "markdown",
      "metadata": {
        "id": "Z4QwDeX5F7sO"
      },
      "source": [
        "### 2.\tDefinition of Algorithm 1 (Mention the Name of the algorithm here)"
      ]
    },
    {
      "cell_type": "code",
      "execution_count": 5,
      "metadata": {
        "id": "zD_EPCHWF7sO"
      },
      "outputs": [],
      "source": [
        "#Code Block : Function for algorithm 1 implementation\n",
        "\n",
        "# Implement IDA* search algorithm\n",
        "def ida_star_search(graph, start, goal, heuristic, bound):\n",
        "    def search(node, g, bound):\n",
        "        f = g + heuristic[node]\n",
        "        if f > bound:\n",
        "            return f\n",
        "        if node == goal:\n",
        "            return 'FOUND'\n",
        "\n",
        "        min_cost = float('inf')\n",
        "        for neighbor, cost in graph[node].items():\n",
        "            result = search(neighbor, g + cost, bound)\n",
        "            if result == 'FOUND':\n",
        "                return 'FOUND'\n",
        "            if result < min_cost:\n",
        "                min_cost = result\n",
        "\n",
        "        return min_cost\n",
        "\n",
        "    for i in range(bound):\n",
        "        result = search(start, 0, i)\n",
        "        if result == 'FOUND':\n",
        "            return 'Goal found within bound: ', i\n",
        "\n",
        "    return 'Goal not found within bound'"
      ]
    },
    {
      "cell_type": "markdown",
      "metadata": {
        "id": "KnbdDl6HF7sO"
      },
      "source": [
        "### 3.\tDefinition of Algorithm 2 (Mention the Name of the algorithm here)"
      ]
    },
    {
      "cell_type": "code",
      "execution_count": 6,
      "metadata": {
        "id": "3HYh7-eJF7sP"
      },
      "outputs": [],
      "source": [
        "#Code Block : Function for algorithm 2 implementation"
      ]
    },
    {
      "cell_type": "markdown",
      "metadata": {
        "id": "LEV2XHccF7sP"
      },
      "source": [
        "### DYNAMIC INPUT"
      ]
    },
    {
      "cell_type": "markdown",
      "metadata": {
        "id": "CylYRo_DF7sP"
      },
      "source": [
        "IMPORTANT : Dynamic Input must be got in this section. Display the possible states to choose from:\n",
        "This is applicable for all the relevent problems as mentioned in the question."
      ]
    },
    {
      "cell_type": "code",
      "execution_count": 7,
      "metadata": {
        "id": "Q5t1Lc-wF7sP"
      },
      "outputs": [],
      "source": [
        "#Code Block : Function & call to get inputs (start/end state)"
      ]
    },
    {
      "cell_type": "markdown",
      "metadata": {
        "id": "xsfOP81lF7sP"
      },
      "source": [
        "### 4.\tCalling the search algorithms\n",
        "(For bidirectional search in below sections first part can be used as per Hint provided. Under second section other combinations as per Hint or your choice of 2 algorithms can be called .As an analyst suggest suitable approximation in the comparitive analysis section)"
      ]
    },
    {
      "cell_type": "code",
      "execution_count": 8,
      "metadata": {
        "id": "Og5zI9thF7sP"
      },
      "outputs": [],
      "source": [
        "#Invoke algorithm 1 (Should Print the solution, path, cost etc., (As mentioned in the problem))"
      ]
    },
    {
      "cell_type": "code",
      "execution_count": 9,
      "metadata": {
        "id": "u3MJeA6eF7sP"
      },
      "outputs": [],
      "source": [
        "#Invoke algorithm 2 (Should Print the solution, path, cost etc., (As mentioned in the problem))"
      ]
    },
    {
      "cell_type": "markdown",
      "metadata": {
        "id": "TOU3Rem6F7sQ"
      },
      "source": [
        "### 5.\tComparitive Analysis"
      ]
    },
    {
      "cell_type": "code",
      "execution_count": 10,
      "metadata": {
        "id": "HG6fWwiIF7sQ"
      },
      "outputs": [],
      "source": [
        "#Code Block : Print the Time & Space complexity of algorithm 1"
      ]
    },
    {
      "cell_type": "code",
      "execution_count": 11,
      "metadata": {
        "id": "xMButLKCF7sQ"
      },
      "outputs": [],
      "source": [
        "#Code Block : Print the Time & Space complexity of algorithm 2"
      ]
    },
    {
      "cell_type": "markdown",
      "metadata": {
        "id": "y2nXwAlsF7sQ"
      },
      "source": [
        "### 6.\tProvide your comparitive analysis or findings in no more than 3 lines in below section"
      ]
    },
    {
      "cell_type": "markdown",
      "metadata": {
        "id": "si483-zoF7sQ"
      },
      "source": [
        "Comparison : _______________________________________________\n",
        "\n",
        "________________________________________________________\n",
        "\n",
        "_________________________________________________________"
      ]
    }
  ],
  "metadata": {
    "kernelspec": {
      "display_name": "Python 3",
      "language": "python",
      "name": "python3"
    },
    "language_info": {
      "codemirror_mode": {
        "name": "ipython",
        "version": 3
      },
      "file_extension": ".py",
      "mimetype": "text/x-python",
      "name": "python",
      "nbconvert_exporter": "python",
      "pygments_lexer": "ipython3",
      "version": "3.7.6"
    },
    "colab": {
      "provenance": [],
      "include_colab_link": true
    }
  },
  "nbformat": 4,
  "nbformat_minor": 0
}